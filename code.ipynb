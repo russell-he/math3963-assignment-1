# %%
# set-up
import numpy as np
import matplotlib.pyplot as plt
import math

# %%
# q1

# defining the hill function
def hillfunc(P, a, b, n):
    return a * ((P ** n) / (P ** n + b ** n))

# setting domain of hill function
P = np.arange(0, 20, 0.001)

# plot 1
for n in [1, 2, 4]:
    plt.plot(P, hillfunc(P, 1, 4, n), label=f"n = {n}")
plt.xlabel("P")
plt.ylabel("h(P)")
plt.legend(loc="upper left")
plt.figure(figsize=(10,6))
plt.show()

# plot 2
for b in [2, 4, 6]:
    plt.plot(P, hillfunc(P, 2, b, 4), label=f"b = {b}")
plt.xlabel("P")
plt.ylabel("h(P)")
plt.legend(loc="upper left")
plt.figure(figsize=(10,6))
plt.show()

# %%
# q5b
def a_inv(a):
    return (a + np.sqrt((a - 8) * a) + 4) ** 3 / (16 * (a + np.sqrt((a - 8) * a) - 4))

def a_inv_branch(a):
    return (- a + np.sqrt((a - 8) * a) - 4) ** 3 / (16 * (-a + np.sqrt((a - 8) * a) + 4))

a = np.arange(0, 20, 0.001)

p_1 = a_inv(a)
p_1[p_1 > 80] = None

p_2 = a_inv_branch(a)
p_2[p_2 > 80] = None

plt.plot(a, p_1, c='blue')
plt.plot(a, p_2, c='blue')
plt.plot([8], [27], marker='o', markersize=6, markeredgecolor="red", markerfacecolor="red", label='Cusp at (8, 27)')
ax.fill_between(p_1, 0, p_2, color='blue', alpha=.2)
plt.legend(loc="upper left")

plt.xlabel('a \in [0, 20]')
plt.ylabel('b \in [0, 80]')


# %%
# q6a
def rep(a, x):
    return a * ((x ** 2) / (x - 1)) - x ** 2

x_s = np.arange(1, 2.25, 0.001)
x_b = np.arange(2.25, 6, 0.001)
x_s2 = np.arange(6, 13.5, 0.001)

plt.plot(rep(12.5, x_s), x_s, c='blue', label='Stable Branch')
plt.plot(rep(12.5, x_b), x_b, linestyle = 'dashed', c='red', label='Unstable Branch')
plt.plot(rep(12.5, x_s2), x_s2, c='blue')
plt.plot(45.563, 2.25, marker='o', markersize=6, markeredgecolor="black", markerfacecolor="yellow", label='Bifurcation Point')
plt.plot(54, 6, marker='o', markersize=6, markeredgecolor="black", markerfacecolor="yellow")
plt.legend(loc="upper right")
plt.xlim(40, 60)
plt.ylim(0, 12)
plt.xlabel('b')
plt.ylabel('x')
plt.show()

plt.plot(a, p_1, c='blue')
plt.plot(a, p_2, c='blue')
plt.axvline(12.5, ymin=0.05, ymax=0.95, c='red', label='a = 12.5')
plt.plot(12.5, 45.563, marker='o', markersize=6, markeredgecolor="black", markerfacecolor="yellow")
plt.plot(12.5, 54, marker='o', markersize=6, markeredgecolor="black", markerfacecolor="yellow")
plt.legend(loc="upper left")

plt.xlabel('a \in [0, 20]')
plt.ylabel('b \in [0, 80]')
plt.show()




